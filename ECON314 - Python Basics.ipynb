{
 "cells": [
  {
   "cell_type": "markdown",
   "id": "58c4e514",
   "metadata": {},
   "source": [
    "ECON 314 – Assignment 1 – Introduction to Python"
   ]
  },
  {
   "cell_type": "markdown",
   "id": "2f21a916",
   "metadata": {},
   "source": [
    "Problem 1.1\n",
    "1.\tCreate a list a which includes the texts 'string1', 'string2' and 'string3'\n",
    "2.\tCreate a list b that adds each elements of a to the string 'this is' by iterating/looping over the elements of a\n",
    "    a.\tso b should be ['this is string1','this is string2','this is string3']\n",
    "3.\tPrint b"
   ]
  },
  {
   "cell_type": "code",
   "execution_count": 20,
   "id": "f68414b3-b0ae-4f73-b90c-110080daa07f",
   "metadata": {},
   "outputs": [
    {
     "name": "stdout",
     "output_type": "stream",
     "text": [
      "100\n",
      "10000\n",
      "my grade is 10000 percent\n"
     ]
    }
   ],
   "source": [
    "#Problem 1.1\n",
    "a = 100\n",
    "print(a)\n",
    "b = a**2\n",
    "print(b)\n",
    "c = 'Python is great'\n",
    "c = c.replace('Python','ECON314')\n",
    "print('my grade is', b,'percent')"
   ]
  },
  {
   "cell_type": "markdown",
   "id": "678cf089",
   "metadata": {},
   "source": [
    "Problem 1.2\n",
    "1.\tCreate a list variable called ‘a’, with as elements the strings ‘me’ and ‘myself’ \n",
    "2.\tCreate a list variable called ‘b’, with as element the string ‘I’\n",
    "3.\tCreate a variable ‘c’ that has the elements of both ‘a’ and ‘b’ and print c\n",
    "4.\tSelect the third element of ‘c’ , call it ‘d’ and print d\n",
    "5.\tUse an if-else statement to check the following:\n",
    "    a.\tIf ‘d’ equals ‘I’, print the word ‘nice’\n",
    "    b.\tIf ‘d’ equals ‘me’, print the word ‘great’\n",
    "    c.\tIf ‘d’ equals ‘myself’, print the word ‘excellent"
   ]
  },
  {
   "cell_type": "code",
   "execution_count": 73,
   "id": "411e3c67-a81c-4a49-a7c6-0e4ab878c3b8",
   "metadata": {},
   "outputs": [
    {
     "name": "stdout",
     "output_type": "stream",
     "text": [
      "['me', 'myself', 'I']\n",
      "I\n",
      "nice\n"
     ]
    }
   ],
   "source": [
    "#Problem 1.2\n",
    "a = ['me','myself']\n",
    "b = 'I'\n",
    "c = a\n",
    "c.insert(2,b)\n",
    "print(c)\n",
    "d = c[2]\n",
    "print(d)\n",
    "if d == 'I':\n",
    "    print('nice')\n",
    "if d == 'me':\n",
    "    print('great')\n",
    "if d == 'myself':\n",
    "    print('excellent')"
   ]
  },
  {
   "cell_type": "markdown",
   "id": "b1c5827c",
   "metadata": {},
   "source": [
    "Problem 1.3\n",
    "1.\tGenerate the list ‘a’ which has the numbers 1,3,5,7,9,11\n",
    "2.\tLoop over the elements of ‘a’ and print the word ‘success’ whenever the element is smaller than or equal to 5 and prints ‘failure’ otherwise"
   ]
  },
  {
   "cell_type": "code",
   "execution_count": 74,
   "id": "8acbdda1-dff4-4d62-882a-5a2c1adf090d",
   "metadata": {},
   "outputs": [
    {
     "name": "stdout",
     "output_type": "stream",
     "text": [
      "sucess\n",
      "sucess\n",
      "sucess\n",
      "failure\n",
      "failure\n",
      "failure\n"
     ]
    }
   ],
   "source": [
    "#Problem 1.3\n",
    "a = [1,3,5,7,9,11]\n",
    "for number in a:\n",
    "    if number <=5:\n",
    "        print('sucess')\n",
    "    if number >5:\n",
    "        print('failure')"
   ]
  },
  {
   "cell_type": "markdown",
   "id": "6caa68cb",
   "metadata": {},
   "source": [
    "Problem 1.4\n",
    "1.\tCreate a list a which includes the texts 'string1', 'string2' and 'string3'\n",
    "2.\tCreate a list b that adds each elements of a to the string 'this is' by iterating/looping over the elements of a\n",
    "a.\tso b should be ['this is string1','this is string2','this is string3']\n",
    "3.\tPrint b"
   ]
  },
  {
   "cell_type": "code",
   "execution_count": 117,
   "id": "1d793479-b61c-4d92-8709-cbc5e15ee27b",
   "metadata": {},
   "outputs": [
    {
     "name": "stdout",
     "output_type": "stream",
     "text": [
      "['this is string1', 'this is string2', 'this is string3']\n"
     ]
    }
   ],
   "source": [
    "#Problem 1.4\n",
    "b = []\n",
    "a = ['string1','string2','string3']\n",
    "for i in a:\n",
    "        b.append('this is ' + i)\n",
    "print(b)"
   ]
  },
  {
   "cell_type": "markdown",
   "id": "4f65fa30",
   "metadata": {},
   "source": [
    "Problem 1.5\n",
    "1. Load ‘autotrader assignment.xlsx’ into python\n",
    "2. Create a new dataframe that only includes the cars with cc more than 2000\n",
    "3. Print that new dataframe\n",
    "4. Compute the descriptive stats of that new dataframe"
   ]
  },
  {
   "cell_type": "code",
   "execution_count": 4,
   "id": "ba32f714-07c7-4a56-a170-320704ebac7e",
   "metadata": {},
   "outputs": [
    {
     "name": "stdout",
     "output_type": "stream",
     "text": [
      "   price      km    cc\n",
      "0  21989   92259  2500\n",
      "1  19990  118800  3984\n",
      "2  19990   58328  2488\n",
      "3  34990   80800  3198\n",
      "4   6979   80146  3000\n",
      "count        5.000000\n",
      "mean     20787.600000\n",
      "std       9938.577529\n",
      "min       6979.000000\n",
      "25%      19990.000000\n",
      "50%      19990.000000\n",
      "75%      21989.000000\n",
      "max      34990.000000\n",
      "Name: price, dtype: float64\n",
      "count         5.000000\n",
      "mean      86066.600000\n",
      "std       22034.301686\n",
      "min       58328.000000\n",
      "25%       80146.000000\n",
      "50%       80800.000000\n",
      "75%       92259.000000\n",
      "max      118800.000000\n",
      "Name: km, dtype: float64\n",
      "count       5.000000\n",
      "mean     3034.000000\n",
      "std       615.187776\n",
      "min      2488.000000\n",
      "25%      2500.000000\n",
      "50%      3000.000000\n",
      "75%      3198.000000\n",
      "max      3984.000000\n",
      "Name: cc, dtype: float64\n"
     ]
    }
   ],
   "source": [
    "#Problem 1.5\n",
    "import pandas as pd\n",
    "autotrader = pd.ExcelFile('autotrader.xlsx')\n",
    "df = autotrader.parse('Sheet1')\n",
    "df2000 = df[df['cc']>2000]\n",
    "print(df2000)\n",
    "print(df2000['price'].describe())\n",
    "print(df2000['km'].describe())\n",
    "print(df2000['cc'].describe())"
   ]
  },
  {
   "cell_type": "markdown",
   "id": "e30d024b",
   "metadata": {},
   "source": [
    "Problem 1.6\n",
    "1.\tCreate a dictionary called ‘grades’ with assignment1, assignment2, assignment3 and assignment4 as keys and as corresponding values the grade on each assignment (out of 10, choose the grades on the assignments yourself) \n",
    "2.\tPrint the keys of the dictionary\n",
    "3.\tIterate over keys to print keys and values"
   ]
  },
  {
   "cell_type": "code",
   "execution_count": 1,
   "id": "2a322b63-064d-49b3-af57-684ee12bec3d",
   "metadata": {},
   "outputs": [
    {
     "name": "stdout",
     "output_type": "stream",
     "text": [
      "dict_keys(['Assignment1', 'Assignment2', 'Assignment3', 'Assignment4'])\n",
      "Assignment1 -> 7\n",
      "Assignment2 -> 8\n",
      "Assignment3 -> 9\n",
      "Assignment4 -> 10\n"
     ]
    }
   ],
   "source": [
    "#Problem 1.6\n",
    "grades = {'Assignment1':7, 'Assignment2':8, 'Assignment3':9, 'Assignment4':10}\n",
    "print(grades.keys())\n",
    "\n",
    "for key in grades:\n",
    "    print(key, '->', grades[key])"
   ]
  }
 ],
 "metadata": {
  "kernelspec": {
   "display_name": "Python 3 (ipykernel)",
   "language": "python",
   "name": "python3"
  },
  "language_info": {
   "codemirror_mode": {
    "name": "ipython",
    "version": 3
   },
   "file_extension": ".py",
   "mimetype": "text/x-python",
   "name": "python",
   "nbconvert_exporter": "python",
   "pygments_lexer": "ipython3",
   "version": "3.9.1"
  }
 },
 "nbformat": 4,
 "nbformat_minor": 5
}
