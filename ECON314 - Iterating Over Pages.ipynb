{
 "cells": [
  {
   "cell_type": "markdown",
   "id": "2dab9e7f",
   "metadata": {},
   "source": [
    "ECON 314 – Assignment 3 – Iterating over pages"
   ]
  },
  {
   "cell_type": "markdown",
   "id": "45a7939a",
   "metadata": {},
   "source": [
    "Question 1\n",
    "Scrape the ‘original’ prices of personal care products from Briscoes (https://www.briscoes.co.nz/electrical/personal-care/) . \n",
    "Prices can be in the form of ‘Now $13.49’ but make them floats. "
   ]
  },
  {
   "cell_type": "code",
   "execution_count": 3,
   "id": "62650b8d-3018-43d6-a62a-d1bc6a9f4c3f",
   "metadata": {},
   "outputs": [
    {
     "name": "stdout",
     "output_type": "stream",
     "text": [
      "[139.99, 299.99, 159.99, 359.99, 79.99, 119.99, 89.99, 199.99, 149.99, 149.99, 39.99, 59.99, 39.99, 99.99]\n",
      "14\n",
      "[149.99, 39.99, 59.99, 39.99, 99.99]\n"
     ]
    }
   ],
   "source": [
    "# Question 1\n",
    "\n",
    "# import the programs needed\n",
    "from urllib.request import Request, urlopen\n",
    "from bs4 import BeautifulSoup\n",
    "import time\n",
    "\n",
    "# create the empty lists that will be filled\n",
    "allprices=[]\n",
    "\n",
    "# loop that save the web page into a html files\n",
    "for i in range(1, 4):\n",
    "    time.sleep(2)\n",
    "    url='https://www.briscoes.co.nz/electrical/personal-care/?page=%i' %i\n",
    "    req = Request(url, headers={'User-Agent': 'Mozilla/5.0'})\n",
    "\n",
    "    tt = urlopen(req)\n",
    "    htmlname='briscoes%i.html' %i\n",
    "    with open(htmlname, \"wb\") as f:\n",
    "        while True:\n",
    "            chunk = tt.read(1024)\n",
    "            if not chunk:\n",
    "                break\n",
    "            f.write(chunk)\n",
    "            \n",
    "# loop that scrape prices in tags 'div', class_='productItem-price--original'\n",
    "# save the prices in a list\n",
    "for i in range(1, 4):\n",
    "    htmlname='briscoes%i.html' %i\n",
    "\n",
    "    with open(htmlname, \"rb\") as f:\n",
    "        soup = BeautifulSoup(f.read(), \"html5lib\")\n",
    "\n",
    "    prices1=[]\n",
    "    price=soup.find_all('div', class_=\"productItem-price--original\")\n",
    "    for i in price:\n",
    "            prices1=prices1+[float(i.text.split()[1].replace(\"$\",\"\"))]\n",
    "    \n",
    "    # adding to the lists that collect all info\n",
    "    allprices=allprices+prices1\n",
    "    \n",
    "print(allprices)\n",
    "print(len(allprices))"
   ]
  },
  {
   "cell_type": "markdown",
   "id": "dbb391b7",
   "metadata": {},
   "source": [
    "Question 2\n",
    "Go to https://ideas.repec.org/. Search for the papers of Tom Coupe. Scrape the titles."
   ]
  },
  {
   "cell_type": "code",
   "execution_count": 3,
   "id": "b77f7304-1c88-4296-930b-589a1698c025",
   "metadata": {},
   "outputs": [
    {
     "name": "stdout",
     "output_type": "stream",
     "text": [
      "['Female Ministers, Governance and Reforms', 'Peer Review versus Citations - An Analysis of Best Paper Prizes', 'Mattresses versus Banks - The Effect of Trust on Portfolio Composition', 'The impact of terrorism on expectations, trust and happiness. The Case of the November 13 attacks in Paris, France', 'The Visibility of Ukrainian Economists 1969-2005', 'What Do We Know about Ourselves? on the Economics of Economics', 'Incentives and Bonuses – The Case of the 2006 World Cup', 'The Impact of Terrorism on Expectations, Trust and Happiness: The Case of the November 13 Attacks in Paris, France', 'Robots, Job Characteristics and Job Insecurity', 'Who is the Most Sought-After Economist? Ranking Economists Using Google Trends', 'On the evaluation of the performance of academic economists', 'Science Is Golden: Academic R&D and University Patents', 'Replicating \"Predicting the present with Google trends\" by Hyunyoung Choi and Hal Varian (The Economic Record, 2012)', 'The impact of terrorism on expectations, trust and happiness – the case of the November 13 attacks in Paris, France', 'Revealed Performances: Worldwide Rankings of Economists and Economics Departments, 1990-2000', 'Replicating \"Predicting the present with Google trends\" by Hyunyoung Choi and Hal Varian (The Economic Record, 2012)', 'Automation, job characteristics and job insecurity', 'The visibility of Ukrainian economists 1969-2005', 'Peer review versus citations – An analysis of best paper prizes', 'Weather Effects in Transition', 'Recent Dynamics of Returns to Education in Transition Countries', 'Do Tobacco Bans Harm the Advertising Industry?', 'Suspicious Blood and Performance in the 2010 Tour de France', 'The Charity of the Extremely Wealthy', 'Violence and political outcomes in Ukraine – Evidence from Sloviansk and Kramatorsk', 'The Impact of War on Happiness: the Case of Ukraine', 'Adolescents’ (Un)happiness in Transition', 'The Charity Of The Extremely Wealthy', 'Popular Support For Trade Agreements And Partner Country Characteristics: Evidence From An Unexpected Election Outcome', 'Expert opinion and football', 'Violence and political outcomes in Ukraine: Evidence from Sloviansk and Kramatorsk', 'The Impact of the European Song Contest on European Identity', 'The Impact of War on Happiness: the Case of Ukraine', 'Country Reputation and Trade Policy Preferences - Using the News of the Election of Donald Trump as an Instrument', 'Adolescents’ (Un)happiness in Transition', 'The Mental Health Cost of Terrorism: A Replication of Kim and Albert Kim (Health Economics, 2018)', 'Weather-Related House Damage and Subjective Wellbeing', 'Google Doodles and Covid-19', 'Creating Europe through culture? The impact of the European Song Contest on European identity', 'The Mental Health Cost of Terrorism. A Replication Study of Kim and Albert Kim (Health Economics, 2018)', 'Violence and political outcomes in Ukraine—Evidence from Sloviansk and Kramatorsk', 'Adolescents’ (un)happiness in transition', 'The impact of war on happiness: The case of Ukraine', 'Quality Based Rankings of Irish Economists 1990-2000', 'Choosing not to choose: on the link between information and abstention', 'Choosing not to choose: on the link between information and abstention', 'Is Optimization an Opportunity? An Assessment of the Impact of Class Size and School Size on the Performance of Ukrainian Secondary Schools', 'Biases in Voting - The Case of the FIFA Best Player Award', 'Are leading papers of better quality? Evidence from a natural experiment', \"Biases and Strategic Behaviour in Performance Evaluation: The Case of the FIFA's best soccer player award\", 'Does the Academic Labor Market Initially Allocate New Graduates Efficiently?', 'Biases and Strategic Behavior in Performance Evaluation: The Case of the FIFA’s Best Soccer Player Award', 'The One-Child Policy and Chinese Saving Behavior', 'Estimating the Effect of the One-Child Policy on Chinese Household Savings: Evidence from an Oaxaca Decomposition', 'Effectiveness of Foreign Exchange Interventions: Evidence from New Zealand', 'Class size, school size and the size of the school network', 'Are leading papers of better quality? Evidence from a natural experiment', 'Incentives, Sorting and Productivity along the Career: Evidence from a Sample of Top Economists', 'Wage Structure and Research Performance of U. S. Economics Departments: Distinguishing Incentives from Sorting', 'Are Leading Papers of Better Quality? Evidence from a Natural Experiment', 'Incentives, sorting and productivity along the career: Evidence from a sample of top economists', 'Are Leading Papers of Better Quality? Evidence from a Natural Experiment', 'Are leading papers of better quality? Evidence from a natural experiment', 'Incentives in Economic Departments: Testing Tournaments?', 'Incentives, Sorting and Productivity along the Career: Evidence from a Sample of Top Economists', 'Estimating the effect of the one-child policy on Chinese household savings - Evidence from an Oaxaca decomposition', 'Is optimization an opportunity ? an assessment of the impact of class size and school size on the performance of Ukrainian secondary schools', 'Student Performance and Attendance in Moldova from a Socio-Economic Perspective', 'The Effect of Policies on FDI Flows to Transition Countries']\n",
      "69\n"
     ]
    }
   ],
   "source": [
    "# Question 2\n",
    "\n",
    "# import the programs needed\n",
    "from urllib.request import Request, urlopen\n",
    "from bs4 import BeautifulSoup\n",
    "import time\n",
    "import re\n",
    "\n",
    "# create the empty lists that will be filled\n",
    "hr=[]\n",
    "title=[]\n",
    "titles=[]\n",
    "y = ['/search.html', '/i/p.html', '/i/a.html', '/i/c.html', '/i/h.html', '/i/b.html', '/i/e.html', '/help.html', 'https://ideas.repec.org/fantasy.html', 'https://research.stlouisfed.org/resources.html', '/team.html', '/archives.html', 'https://research.stlouisfed.org/privacy.html', 'https://research.stlouisfed.org/research_terms.html', '/corrections.html', '/volunteers.html', '/participate.html', '/stepbystep.html', '/getdata.html']\n",
    "\n",
    "# loop that saves web page into a html file\n",
    "for i in range(0, 7):\n",
    "    time.sleep(2)\n",
    "    url2='https://ideas.repec.org/cgi-bin/htsearch?form=extended&wm=wrd&dt=range&ul=&q=Tom%20Coupe&cmd=Search%21&wf=4BFF&s=R&db=&de=3&np=%i'.replace('%i', str(i))\n",
    "    req2 = Request(url2, headers={'User-Agent': 'Mozilla/5.0'})\n",
    "\n",
    "    tt2 = urlopen(req2)\n",
    "    htmlname2='repec%i.html' %i\n",
    "    with open(htmlname2, \"wb\") as b:\n",
    "        while True:\n",
    "            chunk = tt2.read(1024)\n",
    "            if not chunk:\n",
    "                break\n",
    "            b.write(chunk)\n",
    "    \n",
    "    with open(\"repec%i.html\" %i, \"rb\") as b:\n",
    "        soup2 = BeautifulSoup(b.read(), \"html5lib\")\n",
    "\n",
    "# loops that scrape paper titles\n",
    "    for i in soup2.find_all('a', \n",
    "                          attrs={'href': re.compile(\".html\")}):\n",
    "        hr = hr + [i.get('href')]\n",
    "        hr = list(dict.fromkeys(hr))\n",
    "        hr = [x for x in hr if x not in y]\n",
    "\n",
    "    for i in hr:\n",
    "        title=title + soup2.find_all('a', href=i)\n",
    "\n",
    "    for i in title:\n",
    "            titles=titles + [i.text]\n",
    "\n",
    "\n",
    "titles=titles[-69:]\n",
    "print(titles)\n",
    "print(len(titles))"
   ]
  }
 ],
 "metadata": {
  "kernelspec": {
   "display_name": "Python 3 (ipykernel)",
   "language": "python",
   "name": "python3"
  },
  "language_info": {
   "codemirror_mode": {
    "name": "ipython",
    "version": 3
   },
   "file_extension": ".py",
   "mimetype": "text/x-python",
   "name": "python",
   "nbconvert_exporter": "python",
   "pygments_lexer": "ipython3",
   "version": "3.8.5"
  }
 },
 "nbformat": 4,
 "nbformat_minor": 5
}
